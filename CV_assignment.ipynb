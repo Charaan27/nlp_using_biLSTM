{
 "cells": [
  {
   "cell_type": "markdown",
   "metadata": {},
   "source": [
    "<h3> CV Assignment </h3>\n",
    "<h4> In this project, I've implemented a binary classifier and a bidirectional LSTM network. The dataset used consists of various tweets.</h4> "
   ]
  },
  {
   "cell_type": "code",
   "execution_count": 1,
   "metadata": {},
   "outputs": [],
   "source": [
    "# packages rerquired for data preprocessing and representation\n",
    "import pandas as pd\n",
    "import seaborn as sns\n",
    "import tensorflow as tf\n",
    "import matplotlib.pyplot as plt\n",
    "import re\n",
    "import nltk\n",
    "import numpy as np\n",
    "# packages required for building the model\n",
    "from tensorflow.keras import layers\n",
    "from tensorflow.keras.models import Sequential \n",
    "from keras.layers import Dense, Dropout\n",
    "from keras.layers.embeddings import Embedding \n",
    "from keras.layers.convolutional import Conv1D\n",
    "from keras.layers.convolutional import MaxPooling1D\n",
    "from tensorflow.keras.layers import Bidirectional, LSTM\n",
    "from tensorflow.keras.optimizers import Adam\n",
    "from keras.preprocessing import sequence\n",
    "# package required for computation of metrics\n",
    "from sklearn.metrics import matthews_corrcoef, confusion_matrix, accuracy_score, f1_score"
   ]
  },
  {
   "cell_type": "code",
   "execution_count": 2,
   "metadata": {},
   "outputs": [
    {
     "data": {
      "text/html": [
       "<div>\n",
       "<style scoped>\n",
       "    .dataframe tbody tr th:only-of-type {\n",
       "        vertical-align: middle;\n",
       "    }\n",
       "\n",
       "    .dataframe tbody tr th {\n",
       "        vertical-align: top;\n",
       "    }\n",
       "\n",
       "    .dataframe thead th {\n",
       "        text-align: right;\n",
       "    }\n",
       "</style>\n",
       "<table border=\"1\" class=\"dataframe\">\n",
       "  <thead>\n",
       "    <tr style=\"text-align: right;\">\n",
       "      <th></th>\n",
       "      <th>Class</th>\n",
       "      <th>Text</th>\n",
       "    </tr>\n",
       "  </thead>\n",
       "  <tbody>\n",
       "    <tr>\n",
       "      <th>0</th>\n",
       "      <td>1</td>\n",
       "      <td>Today, Senate Dems vote to #SaveTheInternet. P...</td>\n",
       "    </tr>\n",
       "    <tr>\n",
       "      <th>1</th>\n",
       "      <td>1</td>\n",
       "      <td>RT @WinterHavenSun: Winter Haven resident / Al...</td>\n",
       "    </tr>\n",
       "    <tr>\n",
       "      <th>2</th>\n",
       "      <td>1</td>\n",
       "      <td>RT @NBCLatino: .@RepDarrenSoto noted that Hurr...</td>\n",
       "    </tr>\n",
       "    <tr>\n",
       "      <th>3</th>\n",
       "      <td>1</td>\n",
       "      <td>RT @NALCABPolicy: Meeting with @RepDarrenSoto ...</td>\n",
       "    </tr>\n",
       "    <tr>\n",
       "      <th>4</th>\n",
       "      <td>1</td>\n",
       "      <td>RT @Vegalteno: Hurricane season starts on June...</td>\n",
       "    </tr>\n",
       "  </tbody>\n",
       "</table>\n",
       "</div>"
      ],
      "text/plain": [
       "  Class                                               Text\n",
       "0     1  Today, Senate Dems vote to #SaveTheInternet. P...\n",
       "1     1  RT @WinterHavenSun: Winter Haven resident / Al...\n",
       "2     1  RT @NBCLatino: .@RepDarrenSoto noted that Hurr...\n",
       "3     1  RT @NALCABPolicy: Meeting with @RepDarrenSoto ...\n",
       "4     1  RT @Vegalteno: Hurricane season starts on June..."
      ]
     },
     "execution_count": 2,
     "metadata": {},
     "output_type": "execute_result"
    }
   ],
   "source": [
    "# reading the given dataset\n",
    "df = pd.read_csv('CVAssignmentDataset.csv')\n",
    "df.dropna(axis = 0, inplace = True)\n",
    "df.head()"
   ]
  },
  {
   "cell_type": "markdown",
   "metadata": {},
   "source": [
    "<h3>The following code blocks contain codes which are used for Exploratory Data Analysis<h3>"
   ]
  },
  {
   "cell_type": "code",
   "execution_count": 3,
   "metadata": {},
   "outputs": [
    {
     "data": {
      "text/plain": [
       "(86460, 2)"
      ]
     },
     "execution_count": 3,
     "metadata": {},
     "output_type": "execute_result"
    }
   ],
   "source": [
    "df.shape"
   ]
  },
  {
   "cell_type": "code",
   "execution_count": 4,
   "metadata": {},
   "outputs": [
    {
     "name": "stdout",
     "output_type": "stream",
     "text": [
      "<class 'pandas.core.frame.DataFrame'>\n",
      "Int64Index: 86460 entries, 0 to 86460\n",
      "Data columns (total 2 columns):\n",
      " #   Column  Non-Null Count  Dtype \n",
      "---  ------  --------------  ----- \n",
      " 0   Class   86460 non-null  object\n",
      " 1   Text    86460 non-null  object\n",
      "dtypes: object(2)\n",
      "memory usage: 2.0+ MB\n"
     ]
    }
   ],
   "source": [
    "df.info()"
   ]
  },
  {
   "cell_type": "code",
   "execution_count": 5,
   "metadata": {},
   "outputs": [
    {
     "data": {
      "text/plain": [
       "<function matplotlib.pyplot.show(close=None, block=None)>"
      ]
     },
     "execution_count": 5,
     "metadata": {},
     "output_type": "execute_result"
    },
    {
     "data": {
      "image/png": "[encoded data removed]",
      "text/plain": [
       "<Figure size 432x288 with 1 Axes>"
      ]
     },
     "metadata": {
      "needs_background": "light"
     },
     "output_type": "display_data"
    }
   ],
   "source": [
    "sns.countplot(x='Class', data = df)\n",
    "plt.show"
   ]
  },
  {
   "cell_type": "code",
   "execution_count": 6,
   "metadata": {},
   "outputs": [
    {
     "data": {
      "text/plain": [
       "0    44392\n",
       "1    42068\n",
       "Name: Class, dtype: int64"
      ]
     },
     "execution_count": 6,
     "metadata": {},
     "output_type": "execute_result"
    }
   ],
   "source": [
    "df['Class'].value_counts()"
   ]
  },
  {
   "cell_type": "code",
   "execution_count": 7,
   "metadata": {},
   "outputs": [
    {
     "data": {
      "image/png": "[encoded data removed]",
      "text/plain": [
       "<Figure size 432x288 with 1 Axes>"
      ]
     },
     "metadata": {
      "needs_background": "light"
     },
     "output_type": "display_data"
    }
   ],
   "source": [
    "length = df['Text'].str.len()\n",
    "plt.hist(length, bins=20, label=\"none\")\n",
    "plt.show()"
   ]
  },
  {
   "cell_type": "markdown",
   "metadata": {},
   "source": [
    "<h3>Conclusions</h3>\n",
    "<br>\n",
    "Total number of rows = 86460 <br>\n",
    "Number of values under class 0 : 44392 <br>\n",
    "Number of values under class 1 : 42068\n",
    "\n",
    "<h3>The data preprocessing phase begins now</h3>"
   ]
  },
  {
   "cell_type": "code",
   "execution_count": 8,
   "metadata": {},
   "outputs": [],
   "source": [
    "#converting entries under 'Text' to string type\n",
    "df['Text']=df['Text'].apply(str)"
   ]
  },
  {
   "cell_type": "code",
   "execution_count": 9,
   "metadata": {},
   "outputs": [],
   "source": [
    "# function used to remove unwanted text patterns\n",
    "def remove_pattern(input_text, pattern):\n",
    "    r = re.findall(pattern, input_text)\n",
    "    for i in r:\n",
    "        input_text = re.sub(i, '', input_text)\n",
    "    return input_text\n",
    "df['processed_tweet'] = np.vectorize(remove_pattern)(df['Text'], \"@[\\w]*\") #removing special characters(except #)"
   ]
  },
  {
   "cell_type": "code",
   "execution_count": 10,
   "metadata": {},
   "outputs": [
    {
     "name": "stderr",
     "output_type": "stream",
     "text": [
      "<ipython-input-10-1b3ca29d3fbe>:1: FutureWarning: The default value of regex will change from True to False in a future version.\n",
      "  df['processed_tweet'] = df['processed_tweet'].str.replace(\"[^a-zA-Z#]\", \" \") #removing everything except alphabets and #\n",
      "<ipython-input-10-1b3ca29d3fbe>:2: FutureWarning: The default value of regex will change from True to False in a future version.\n",
      "  df['processed_tweet'] = df['processed_tweet'].str.replace(r'http\\S+', \" \") #removing links\n"
     ]
    }
   ],
   "source": [
    "df['processed_tweet'] = df['processed_tweet'].str.replace(\"[^a-zA-Z#]\", \" \") #removing everything except alphabets and #\n",
    "df['processed_tweet'] = df['processed_tweet'].str.replace(r'http\\S+', \" \") #removing links\n",
    "# removing words of shorter length\n",
    "df['processed_tweet'] = df['processed_tweet'].apply(lambda x: ' '.join([w for w in x.split() if len(w)>3])) "
   ]
  },
  {
   "cell_type": "code",
   "execution_count": 11,
   "metadata": {},
   "outputs": [
    {
     "name": "stderr",
     "output_type": "stream",
     "text": [
      "[nltk_data] Downloading package stopwords to\n",
      "[nltk_data]     C:\\Users\\kumar\\AppData\\Roaming\\nltk_data...\n",
      "[nltk_data]   Package stopwords is already up-to-date!\n"
     ]
    }
   ],
   "source": [
    "# packages required for further data preprocessing\n",
    "from nltk import word_tokenize, FreqDist\n",
    "from nltk.corpus import stopwords\n",
    "from nltk.stem import WordNetLemmatizer\n",
    "nltk.download\n",
    "nltk.download('stopwords')\n",
    "from nltk.tokenize import TweetTokenizer"
   ]
  },
  {
   "cell_type": "code",
   "execution_count": 12,
   "metadata": {},
   "outputs": [
    {
     "data": {
      "text/plain": [
       "0    Today Senate Dems vote #SaveTheInternet Proud ...\n",
       "1    Winter Haven resident Alta Vista teacher sever...\n",
       "2    noted that Hurricane Maria left approximately ...\n",
       "3    Meeting with Thanks taking time meet with Maru...\n",
       "4    Hurricane season starts June Puerto Rico readi...\n",
       "Name: processed_tweet, dtype: object"
      ]
     },
     "execution_count": 12,
     "metadata": {},
     "output_type": "execute_result"
    }
   ],
   "source": [
    "#Let's have a look at the processed data till now\n",
    "df['processed_tweet'].head()"
   ]
  },
  {
   "cell_type": "code",
   "execution_count": 13,
   "metadata": {},
   "outputs": [
    {
     "data": {
      "text/plain": [
       "0        today senate dems vote # savetheinternet proud...\n",
       "1        winter resident alta vista teacher several rec...\n",
       "2        noted hurricane maria left approximately billi...\n",
       "3        meeting thanks taking time meet marucci guzman...\n",
       "4        hurricane season start june puerto rico readin...\n",
       "                               ...                        \n",
       "86456    check need executive overreach white house cri...\n",
       "86457    yesterday betty great time learning forestry i...\n",
       "86458    forever grateful service sacrifice major barne...\n",
       "86459                happy first school # cobbbacktoschool\n",
       "86460    # zika fear realized florida house acted preve...\n",
       "Name: processed_tweet, Length: 86460, dtype: object"
      ]
     },
     "execution_count": 13,
     "metadata": {},
     "output_type": "execute_result"
    }
   ],
   "source": [
    "# converting the processed_tweet column in  pandas to a numpy array\n",
    "dataArray = df.processed_tweet.to_numpy()\n",
    "dataList = []\n",
    "lemma = nltk.WordNetLemmatizer()\n",
    "\n",
    "for data in dataArray:\n",
    "    data = data.lower() \n",
    "    data = nltk.word_tokenize(data)\n",
    "    #removal of stop-words(here stopwords.words('english') contains a set of frequently appearing stop words.\n",
    "    stop_words = set(stopwords.words('english')) \n",
    "    data = [w for w in data if not w in stop_words]\n",
    "    data = [lemma.lemmatize(word) for word in data] #Lemmatizing(removing inflectional endings and returning the base forms of words)\n",
    "    data = \" \".join(data)\n",
    "    dataList.append(data)\n",
    "\n",
    "\n",
    "dataArray = np.asarray(dataList) #updating dataArray with the obtained list\n",
    "df['processed_tweet'] = dataArray\n",
    "df['processed_tweet']"
   ]
  },
  {
   "cell_type": "code",
   "execution_count": 14,
   "metadata": {},
   "outputs": [],
   "source": [
    "# tokenizing the processed words using TweetTokenizer\n",
    "from nltk.tokenize.casual import TweetTokenizer\n",
    "tokenizer = TweetTokenizer(reduce_len=True)\n",
    "\n",
    "df['processed_tweet'] = df.processed_tweet.apply(tokenizer.tokenize)\n",
    "\n",
    "# converting the tokens to frequency distribution rankings\n",
    "topWords = 10000 # chosen as given in the problem statement \n",
    "freq_dist = FreqDist(w for t in df.processed_tweet for w in t)\n",
    "tweetTerms = [te for te, cnt in freq_dist.most_common(topWords)]\n",
    "df.processed_tweet = df.processed_tweet.apply(lambda tweet:[tweetTerms.index(te) if te in tweetTerms else 0 for te in tweet])"
   ]
  },
  {
   "cell_type": "code",
   "execution_count": 15,
   "metadata": {},
   "outputs": [
    {
     "data": {
      "text/plain": [
       "0        [1, 121, 851, 55, 0, 2130, 22, 21, 2205, 0, 48...\n",
       "1          [1469, 347, 0, 3600, 199, 705, 964, 33, 199, 0]\n",
       "2        [6084, 544, 1969, 597, 3816, 219, 1035, 12, 7499]\n",
       "3                       [37, 17, 216, 10, 101, 0, 0, 0, 0]\n",
       "4               [544, 694, 257, 1706, 730, 836, 1396, 253]\n",
       "                               ...                        \n",
       "86456           [168, 18, 796, 4302, 282, 5, 6297, 110, 0]\n",
       "86457    [73, 5259, 2, 10, 1039, 6027, 420, 1617, 4966,...\n",
       "86458                      [1458, 326, 45, 490, 495, 0, 0]\n",
       "86459                                   [28, 32, 25, 0, 0]\n",
       "86460    [0, 3114, 1352, 5907, 379, 5, 2766, 484, 212, ...\n",
       "Name: processed_tweet, Length: 86460, dtype: object"
      ]
     },
     "execution_count": 15,
     "metadata": {},
     "output_type": "execute_result"
    }
   ],
   "source": [
    "# Let's now have a look at the tokenized and ranked dataset\n",
    "df.processed_tweet"
   ]
  },
  {
   "cell_type": "code",
   "execution_count": 16,
   "metadata": {},
   "outputs": [
    {
     "name": "stdout",
     "output_type": "stream",
     "text": [
      "(86460, 50)\n"
     ]
    }
   ],
   "source": [
    "# padding is done to bring the processed dataset to a length of 50, as given in the problem statement\n",
    "x = df.processed_tweet\n",
    "ipLength = 50\n",
    "x = sequence.pad_sequences(x, maxlen = ipLength)\n",
    "print(x.shape)\n",
    "\n",
    "# here the dataset is assigned to a variable x, which will be further used for training and testing."
   ]
  },
  {
   "cell_type": "code",
   "execution_count": 17,
   "metadata": {},
   "outputs": [
    {
     "data": {
      "text/plain": [
       "0        [1, 121, 851, 55, 0, 2130, 22, 21, 2205, 0, 48...\n",
       "1          [1469, 347, 0, 3600, 199, 705, 964, 33, 199, 0]\n",
       "2        [6084, 544, 1969, 597, 3816, 219, 1035, 12, 7499]\n",
       "3                       [37, 17, 216, 10, 101, 0, 0, 0, 0]\n",
       "4               [544, 694, 257, 1706, 730, 836, 1396, 253]\n",
       "                               ...                        \n",
       "86456           [168, 18, 796, 4302, 282, 5, 6297, 110, 0]\n",
       "86457    [73, 5259, 2, 10, 1039, 6027, 420, 1617, 4966,...\n",
       "86458                      [1458, 326, 45, 490, 495, 0, 0]\n",
       "86459                                   [28, 32, 25, 0, 0]\n",
       "86460    [0, 3114, 1352, 5907, 379, 5, 2766, 484, 212, ...\n",
       "Name: processed_tweet, Length: 86460, dtype: object"
      ]
     },
     "execution_count": 17,
     "metadata": {},
     "output_type": "execute_result"
    }
   ],
   "source": [
    "# This is how our dataset(with values) looks like, after padding\n",
    "df.processed_tweet"
   ]
  },
  {
   "cell_type": "code",
   "execution_count": 18,
   "metadata": {},
   "outputs": [],
   "source": [
    "# now the labels are assigned to a variable y\n",
    "y = df.Class"
   ]
  },
  {
   "cell_type": "code",
   "execution_count": 19,
   "metadata": {},
   "outputs": [],
   "source": [
    "# splitting the pre-processed data into training and testing datasets\n",
    "from sklearn.model_selection import train_test_split\n",
    "x_train, x_test, y_train, y_test = train_test_split(x,y, test_size=0.25, random_state=42)"
   ]
  },
  {
   "cell_type": "code",
   "execution_count": 20,
   "metadata": {},
   "outputs": [],
   "source": [
    "# converting the splitted data into arrays\n",
    "x_train = np.asarray(x_train)\n",
    "y_train = np.asarray(y_train)\n",
    "x_test = np.asarray(x_test)\n",
    "y_test = np.asarray(y_test)\n",
    "\n",
    "# type conversion to float\n",
    "x_train = x_train.astype(float)\n",
    "y_train = y_train.astype(float)\n",
    "x_test = x_test.astype(float)\n",
    "y_test = y_test.astype(float)"
   ]
  },
  {
   "cell_type": "code",
   "execution_count": 21,
   "metadata": {},
   "outputs": [],
   "source": [
    "#creating the model as given in the model architecture image in the problem statement\n",
    "def baseline_model():\n",
    "    \n",
    "    model = Sequential() # one input tensor and one output tensor\n",
    "    embeddingVectorLength = 32 # assigned as given in the image\n",
    "    \n",
    "    model.add(layers.Input(shape = ipLength, dtype='float64')) # first layer(input)\n",
    "    model.add(Embedding(topWords, embeddingVectorLength, input_length = ipLength))\n",
    "    \n",
    "    model.add(Conv1D(filters = 32, kernel_size = 3, padding = 'same', activation = 'relu')) #kernel size is chosen as 3 pertaining to normal convention\n",
    "    model.add(MaxPooling1D(pool_size=2))\n",
    "    \n",
    "    model.add(Bidirectional(LSTM(256, return_sequences=True)))\n",
    "    model.add(Dropout(0.5))\n",
    "    \n",
    "    model.add(Bidirectional(LSTM(256)))\n",
    "    model.add(Dropout(0.5))\n",
    "    \n",
    "    model.add(Dense(1024, activation='relu'))\n",
    "    model.add(Dropout(0.5))\n",
    "    \n",
    "    model.add(Dense(512, activation='relu'))\n",
    "    model.add(Dropout(0.5))\n",
    "    \n",
    "    model.add(Dense(1, activation='sigmoid'))\n",
    "    model.compile(loss='binary_crossentropy', optimizer='adam', metrics=['accuracy'])\n",
    "    \n",
    "    return model\n",
    "    "
   ]
  },
  {
   "cell_type": "code",
   "execution_count": 22,
   "metadata": {},
   "outputs": [
    {
     "name": "stdout",
     "output_type": "stream",
     "text": [
      "Model: \"sequential\"\n",
      "_________________________________________________________________\n",
      "Layer (type)                 Output Shape              Param #   \n",
      "=================================================================\n",
      "embedding (Embedding)        (None, 50, 32)            320000    \n",
      "_________________________________________________________________\n",
      "conv1d (Conv1D)              (None, 50, 32)            3104      \n",
      "_________________________________________________________________\n",
      "max_pooling1d (MaxPooling1D) (None, 25, 32)            0         \n",
      "_________________________________________________________________\n",
      "bidirectional (Bidirectional (None, 25, 512)           591872    \n",
      "_________________________________________________________________\n",
      "dropout (Dropout)            (None, 25, 512)           0         \n",
      "_________________________________________________________________\n",
      "bidirectional_1 (Bidirection (None, 512)               1574912   \n",
      "_________________________________________________________________\n",
      "dropout_1 (Dropout)          (None, 512)               0         \n",
      "_________________________________________________________________\n",
      "dense (Dense)                (None, 1024)              525312    \n",
      "_________________________________________________________________\n",
      "dropout_2 (Dropout)          (None, 1024)              0         \n",
      "_________________________________________________________________\n",
      "dense_1 (Dense)              (None, 512)               524800    \n",
      "_________________________________________________________________\n",
      "dropout_3 (Dropout)          (None, 512)               0         \n",
      "_________________________________________________________________\n",
      "dense_2 (Dense)              (None, 1)                 513       \n",
      "=================================================================\n",
      "Total params: 3,540,513\n",
      "Trainable params: 3,540,513\n",
      "Non-trainable params: 0\n",
      "_________________________________________________________________\n",
      "None\n",
      "Epoch 1/3\n",
      "679/679 [==============================] - 242s 349ms/step - loss: 0.6338 - accuracy: 0.6048 - val_loss: 0.5163 - val_accuracy: 0.7296\n",
      "Epoch 2/3\n",
      "679/679 [==============================] - 255s 375ms/step - loss: 0.4320 - accuracy: 0.7949 - val_loss: 0.5393 - val_accuracy: 0.7308\n",
      "Epoch 3/3\n",
      "679/679 [==============================] - 253s 372ms/step - loss: 0.3098 - accuracy: 0.8619 - val_loss: 0.6025 - val_accuracy: 0.7355\n"
     ]
    },
    {
     "data": {
      "text/plain": [
       "<tensorflow.python.keras.callbacks.History at 0x1bc1e962d90>"
      ]
     },
     "execution_count": 22,
     "metadata": {},
     "output_type": "execute_result"
    }
   ],
   "source": [
    "# let's run the summary of the model, and start training\n",
    "model = baseline_model()\n",
    "print(model.summary())\n",
    "model.fit(x_train, y_train, epochs=3, batch_size=64, validation_split=0.33, verbose=1)"
   ]
  },
  {
   "cell_type": "markdown",
   "metadata": {},
   "source": [
    "<br>\n",
    "<p> After multiple trials, the number of epochs is chosen to be 3 and validation_split is assigned a value of 0.33(pertaining to standard convention). After observing the increase in accuracy and reduction in loss, it is inferred that the model works fine. It is also noted that the validation loss increases, over the epochs. It was observed that for more number of epochs, the validation loss fluctuates (i.e) reduces and later increases which is an indication of overfitting. This is a common phenomenon, observed in many models. Hence to avoid that, the number of epochs is reduced to 3 and the test_size is also reduced. This leads to increased accuracy of predicted values and lesser chances of overfitting </p>"
   ]
  },
  {
   "cell_type": "code",
   "execution_count": 26,
   "metadata": {},
   "outputs": [
    {
     "name": "stdout",
     "output_type": "stream",
     "text": [
      "Accuracy 0.7313439740920656\n",
      "Confusion Matrix [[8525 2507]\n",
      " [3300 7283]]\n",
      "Matthews Correlation Coefficient 0.46288772322516836\n"
     ]
    }
   ],
   "source": [
    "y_pred = model.predict(x_test, use_multiprocessing=True)\n",
    "print('Accuracy {}'.format(accuracy_score(y_test, np.round(y_pred))))\n",
    "print('Confusion Matrix {}'.format(confusion_matrix(y_test, np.round(y_pred))))\n",
    "print('Matthews Correlation Coefficient {}'.format(matthews_corrcoef(y_test, np.round(y_pred))))"
   ]
  },
  {
   "cell_type": "code",
   "execution_count": 27,
   "metadata": {},
   "outputs": [
    {
     "name": "stdout",
     "output_type": "stream",
     "text": [
      "F1 score 0.7149658862219603\n"
     ]
    }
   ],
   "source": [
    "print('F1 score {}'.format(f1_score(y_test, np.round(y_pred))))"
   ]
  },
  {
   "cell_type": "markdown",
   "metadata": {},
   "source": [
    "By observing the results of the metrics, we infer that the model is now predicting values with an accuracy of 0.7313 and with an MCC value of 0.4628. By looking at the Confusion Matrix, the combined values of FP and FN is lesser than that of TP and TN, which indicates that the model predicts majority of the values correctly. Also the F1 score turns out to be 0.7149, which is also an indication of fine working of the model."
   ]
  },
  {
   "cell_type": "code",
   "execution_count": null,
   "metadata": {},
   "outputs": [],
   "source": []
  }
 ],
 "metadata": {
  "kernelspec": {
   "display_name": "Python 3",
   "language": "python",
   "name": "python3"
  },
  "language_info": {
   "codemirror_mode": {
    "name": "ipython",
    "version": 3
   },
   "file_extension": ".py",
   "mimetype": "text/x-python",
   "name": "python",
   "nbconvert_exporter": "python",
   "pygments_lexer": "ipython3",
   "version": "3.8.5"
  }
 },
 "nbformat": 4,
 "nbformat_minor": 4
}
